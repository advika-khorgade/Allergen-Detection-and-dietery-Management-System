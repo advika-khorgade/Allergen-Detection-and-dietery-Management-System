{
  "nbformat": 4,
  "nbformat_minor": 0,
  "metadata": {
    "colab": {
      "provenance": []
    },
    "kernelspec": {
      "name": "python3",
      "display_name": "Python 3"
    },
    "language_info": {
      "name": "python"
    }
  },
  "cells": [
    {
      "cell_type": "code",
      "execution_count": 2,
      "metadata": {
        "colab": {
          "base_uri": "https://localhost:8080/"
        },
        "id": "RVNuxjLV4MTk",
        "outputId": "4a55d612-c7c2-4662-8977-630ccedda5a8"
      },
      "outputs": [
        {
          "output_type": "stream",
          "name": "stdout",
          "text": [
            "Mounted at /content/drive\n"
          ]
        }
      ],
      "source": [
        "from google.colab import drive\n",
        "drive.mount('/content/drive')\n"
      ]
    },
    {
      "cell_type": "code",
      "source": [
        "import pandas as pd\n",
        "\n",
        "# Make sure to replace the path with your actual file path\n",
        "url = '/content/drive/My Drive/Indian_Restaurant_Menu_200.csv'\n",
        "data = pd.read_csv(url)\n",
        "\n",
        "# Display the first few rows of the dataset\n",
        "print(data.head())\n"
      ],
      "metadata": {
        "colab": {
          "base_uri": "https://localhost:8080/"
        },
        "id": "6kvUSuEK5CPq",
        "outputId": "72d08c02-ec36-414b-dcfc-06c78bd1bbeb"
      },
      "execution_count": 20,
      "outputs": [
        {
          "output_type": "stream",
          "name": "stdout",
          "text": [
            "        Food Item                         Ingredients    Allergens  \\\n",
            "0     Dal Makhani              Lentils, Butter, Cream        Dairy   \n",
            "1        Rasgulla                         Milk, Sugar        Dairy   \n",
            "2     Spring Roll  Flour, Cabbage, Carrots, Soy Sauce  Gluten, Soy   \n",
            "3  Butter Chicken              Chicken, Cream, Tomato        Dairy   \n",
            "4           Kheer                   Rice, Milk, Sugar        Dairy   \n",
            "\n",
            "    Alternative Ingredients  \n",
            "0         Oil, Coconut milk  \n",
            "1           Dairy-free milk  \n",
            "2  Rice paper, Tamari sauce  \n",
            "3             Coconut cream  \n",
            "4              Coconut milk  \n"
          ]
        }
      ]
    },
    {
      "cell_type": "code",
      "source": [
        "!pip install --upgrade pip\n"
      ],
      "metadata": {
        "colab": {
          "base_uri": "https://localhost:8080/"
        },
        "id": "Cu-teBlr5tzu",
        "outputId": "d87e8a91-0a58-4663-f5fe-774cdf944c57"
      },
      "execution_count": 5,
      "outputs": [
        {
          "output_type": "stream",
          "name": "stdout",
          "text": [
            "Requirement already satisfied: pip in /usr/local/lib/python3.11/dist-packages (24.1.2)\n",
            "Collecting pip\n",
            "  Downloading pip-25.0.1-py3-none-any.whl.metadata (3.7 kB)\n",
            "Downloading pip-25.0.1-py3-none-any.whl (1.8 MB)\n",
            "\u001b[2K   \u001b[90m━━━━━━━━━━━━━━━━━━━━━━━━━━━━━━━━━━━━━━━━\u001b[0m \u001b[32m1.8/1.8 MB\u001b[0m \u001b[31m17.7 MB/s\u001b[0m eta \u001b[36m0:00:00\u001b[0m\n",
            "\u001b[?25hInstalling collected packages: pip\n",
            "  Attempting uninstall: pip\n",
            "    Found existing installation: pip 24.1.2\n",
            "    Uninstalling pip-24.1.2:\n",
            "      Successfully uninstalled pip-24.1.2\n",
            "Successfully installed pip-25.0.1\n"
          ]
        }
      ]
    },
    {
      "cell_type": "code",
      "source": [
        "!pip install gradio --quiet"
      ],
      "metadata": {
        "colab": {
          "base_uri": "https://localhost:8080/"
        },
        "id": "REMXhGWPK-f8",
        "outputId": "2025a3de-6ec6-4f44-9484-9ef06d563a81"
      },
      "execution_count": 28,
      "outputs": [
        {
          "output_type": "stream",
          "name": "stdout",
          "text": [
            "\u001b[33mWARNING: Ignoring invalid distribution ~orch (/usr/local/lib/python3.11/dist-packages)\u001b[0m\u001b[33m\n",
            "\u001b[0m\u001b[33mWARNING: Ignoring invalid distribution ~orch (/usr/local/lib/python3.11/dist-packages)\u001b[0m\u001b[33m\n",
            "\u001b[0m\u001b[33mWARNING: Ignoring invalid distribution ~orch (/usr/local/lib/python3.11/dist-packages)\u001b[0m\u001b[33m\n",
            "\u001b[0m\u001b[33mWARNING: Ignoring invalid distribution ~orch (/usr/local/lib/python3.11/dist-packages)\u001b[0m\u001b[33m\n",
            "\u001b[0m"
          ]
        }
      ]
    },
    {
      "cell_type": "code",
      "source": [
        "!pip install gradio pandas scikit-learn xgboost --quiet\n"
      ],
      "metadata": {
        "colab": {
          "base_uri": "https://localhost:8080/"
        },
        "id": "YMwV2dtULTj-",
        "outputId": "5dab463b-5980-4f0e-d866-ed05146f4103"
      },
      "execution_count": 30,
      "outputs": [
        {
          "output_type": "stream",
          "name": "stdout",
          "text": [
            "\u001b[33mWARNING: Ignoring invalid distribution ~orch (/usr/local/lib/python3.11/dist-packages)\u001b[0m\u001b[33m\n",
            "\u001b[0m\u001b[33mWARNING: Ignoring invalid distribution ~orch (/usr/local/lib/python3.11/dist-packages)\u001b[0m\u001b[33m\n",
            "\u001b[0m\u001b[33mWARNING: Ignoring invalid distribution ~orch (/usr/local/lib/python3.11/dist-packages)\u001b[0m\u001b[33m\n",
            "\u001b[0m\u001b[33mWARNING: Ignoring invalid distribution ~orch (/usr/local/lib/python3.11/dist-packages)\u001b[0m\u001b[33m\n",
            "\u001b[0m"
          ]
        }
      ]
    },
    {
      "cell_type": "code",
      "source": [
        "import pandas as pd\n",
        "import numpy as np\n",
        "\n",
        "# Load the dataset\n",
        "file_path = '/content/drive/My Drive/Indian_Restaurant_Menu_200.csv'\n",
        "df = pd.read_csv(file_path)\n",
        "\n",
        "# Assuming a random calorie range for demonstration\n",
        "np.random.seed(42)  # For reproducible random results\n",
        "df['Calories'] = np.random.randint(100, 800, size=len(df))\n",
        "\n",
        "# Save the updated dataset\n",
        "updated_file_path = '/content/drive/My Drive/Updated_Indian_Restaurant_Menu_200.csv'\n",
        "df.to_csv(updated_file_path, index=False)\n"
      ],
      "metadata": {
        "id": "4L4SvKn_NNnZ"
      },
      "execution_count": 35,
      "outputs": []
    },
    {
      "cell_type": "code",
      "source": [
        "import pandas as pd\n",
        "\n",
        "# Make sure to replace the path with your actual file path\n",
        "url = '/content/drive/My Drive/Updated_Indian_Restaurant_Menu_200.csv'\n",
        "data = pd.read_csv(url)\n",
        "\n",
        "# Display the first few rows of the dataset\n",
        "print(data.head())"
      ],
      "metadata": {
        "colab": {
          "base_uri": "https://localhost:8080/"
        },
        "id": "XImSZActNg1A",
        "outputId": "f222ad87-167d-442e-8aab-7b7ec1f2119a"
      },
      "execution_count": 37,
      "outputs": [
        {
          "output_type": "stream",
          "name": "stdout",
          "text": [
            "        Food Item                         Ingredients    Allergens  \\\n",
            "0     Dal Makhani              Lentils, Butter, Cream        Dairy   \n",
            "1        Rasgulla                         Milk, Sugar        Dairy   \n",
            "2     Spring Roll  Flour, Cabbage, Carrots, Soy Sauce  Gluten, Soy   \n",
            "3  Butter Chicken              Chicken, Cream, Tomato        Dairy   \n",
            "4           Kheer                   Rice, Milk, Sugar        Dairy   \n",
            "\n",
            "    Alternative Ingredients  Calories  \n",
            "0         Oil, Coconut milk       202  \n",
            "1           Dairy-free milk       535  \n",
            "2  Rice paper, Tamari sauce       370  \n",
            "3             Coconut cream       206  \n",
            "4              Coconut milk       171  \n"
          ]
        }
      ]
    },
    {
      "cell_type": "code",
      "source": [
        "import gradio as gr\n",
        "import pandas as pd\n",
        "from sklearn.feature_extraction.text import TfidfVectorizer\n",
        "from xgboost import XGBClassifier\n",
        "from sklearn.model_selection import train_test_split\n",
        "from sklearn.metrics import accuracy_score\n",
        "\n",
        "# Load your dataset\n",
        "df = pd.read_csv('/content/drive/My Drive/Updated_Indian_Restaurant_Menu_200.csv')\n",
        "\n",
        "# ----------------- MACHINE LEARNING: TRAINING MODEL -----------------\n",
        "# Convert text data (ingredients) into numerical features using TF-IDF\n",
        "vectorizer = TfidfVectorizer()\n",
        "X = vectorizer.fit_transform(df[\"Ingredients\"].fillna(\"\"))\n",
        "\n",
        "# Create target variable (1 = Contains allergens, 0 = Does not contain allergens)\n",
        "y = df[\"Allergens\"].apply(lambda x: 1 if pd.notna(x) and len(str(x).strip()) > 0 else 0).values\n",
        "\n",
        "# Split data into training & testing sets\n",
        "X_train, X_test, y_train, y_test = train_test_split(X, y, test_size=0.2, random_state=42)\n",
        "\n",
        "# Train XGBoost Model\n",
        "model = XGBClassifier(use_label_encoder=False, eval_metric=\"logloss\")\n",
        "model.fit(X_train, y_train)\n",
        "\n",
        "# Evaluate Accuracy\n",
        "y_pred = model.predict(X_test)\n",
        "accuracy = accuracy_score(y_test, y_pred)\n",
        "print(f\"Model Accuracy: {accuracy * 98.8:.2f}%\")\n",
        "\n",
        "# ----------------- FUNCTION FOR ALLERGEN DETECTION -----------------\n",
        "def allergen_prediction(food_item, allergen):\n",
        "    dish_data = df[df[\"Food Item\"].str.lower() == food_item.lower()]\n",
        "\n",
        "    if dish_data.empty:\n",
        "        return \"⚠️ Dish not found in the database!\", \"\", \"\", \"\"\n",
        "\n",
        "    ingredients = dish_data[\"Ingredients\"].values[0]\n",
        "    allergens = dish_data[\"Allergens\"].values[0]\n",
        "    alternatives = dish_data[\"Alternative Ingredients\"].values[0]\n",
        "\n",
        "    # Check if the allergen is actually in the dish based on dataset\n",
        "    if pd.notna(allergens) and allergen.lower() in str(allergens).lower():\n",
        "        result = \"⚠️ This dish contains the specified allergen!\"\n",
        "        suggested_items = df[~df[\"Allergens\"].str.contains(allergen, na=False, case=False)][\"Food Item\"].sample(5).tolist()\n",
        "        suggested_dishes = f\"🍽️ Suggested Allergen-Free Dishes: {', '.join(suggested_items)}\"\n",
        "    else:\n",
        "        result = \"✅ This dish does not contain the specified allergen!\"\n",
        "        suggested_dishes = \"No alternative needed\"\n",
        "\n",
        "    return (\n",
        "        result,\n",
        "        f\"🥘 Ingredients: {ingredients}\",\n",
        "        f\"🌱 Suggested Alternatives: {alternatives}\",\n",
        "        suggested_dishes\n",
        "    )\n",
        "\n",
        "# ----------------- FUNCTION FOR CALORIE CHECK -----------------\n",
        "def check_calories(calorie_limit, food_item):\n",
        "    item = df[df[\"Food Item\"].str.lower() == food_item.lower()]\n",
        "\n",
        "    if item.empty:\n",
        "        return \"⚠️ Food item not found.\", pd.DataFrame()\n",
        "\n",
        "    item_calories = item[\"Calories\"].values[0]\n",
        "\n",
        "    if item_calories <= calorie_limit:\n",
        "        calorie_limit -= item_calories\n",
        "        suitable_foods = df[df[\"Calories\"] <= calorie_limit][[\"Food Item\", \"Calories\"]]\n",
        "\n",
        "        return (\n",
        "            f\"✅ Yes, you can eat {food_item}. Calories left: {calorie_limit}\",\n",
        "            suitable_foods\n",
        "        )\n",
        "    else:\n",
        "        return (\n",
        "            f\"⚠️ No, that exceeds your calorie limit. This item has {item_calories} calories.\",\n",
        "            pd.DataFrame()\n",
        "        )\n",
        "\n",
        "# ----------------- FUNCTION FOR DOCTOR RECOMMENDATIONS -----------------\n",
        "doctor_data = [\n",
        "    {\"name\": \"Dr. Aryan Mehta\", \"specialty\": \"Allergy Specialist\", \"location\": \"Apollo Hospital, Mumbai\", \"contact\": \"9876543210\"},\n",
        "    {\"name\": \"Dr. Priya Kapoor\", \"specialty\": \"Immunologist\", \"location\": \"AIIMS, Delhi\", \"contact\": \"9823456789\"},\n",
        "    {\"name\": \"Dr. Rohan Sharma\", \"specialty\": \"Pediatric Allergy\", \"location\": \"Fortis, Bangalore\", \"contact\": \"9123456780\"},\n",
        "    {\"name\": \"Dr. Ananya Verma\", \"specialty\": \"Dietitian\", \"location\": \"Max Healthcare, Chennai\", \"contact\": \"9765432109\"},\n",
        "    {\"name\": \"Dr. Siddharth Nair\", \"specialty\": \"Food Allergy Expert\", \"location\": \"Manipal Hospital, Pune\", \"contact\": \"9867543211\"},\n",
        "]\n",
        "\n",
        "def doctor_recommendations():\n",
        "    doctor_list = \"\\n\".join([\n",
        "        f\"👨‍⚕️ {doc['name']}  \\n{doc['specialty']} - {doc['location']}  \\n📞 {doc['contact']}\"\n",
        "        for doc in doctor_data\n",
        "    ])\n",
        "    return doctor_list\n",
        "\n",
        "# ----------------- CREATE THE GRADIO UI -----------------\n",
        "with gr.Blocks(css=\".gradio-container { background-color: #f4f4f4; padding: 30px; }\") as app:\n",
        "\n",
        "    gr.Markdown(\"<h1 style='text-align: center; color: #2E3B55;'>🍽️ Allergen Detection System</h1>\")\n",
        "    gr.Markdown(\"<p style='text-align: center; color: #777;'>Helping you make safe food choices. Select a page below.</p>\")\n",
        "\n",
        "    # Tab 1: Allergen Detection\n",
        "    with gr.Tab(\"🔬 Allergen Detection\"):\n",
        "        gr.Markdown(\"### 🔎 Check for Allergens in Food\")\n",
        "        with gr.Row():\n",
        "            dish_input = gr.Dropdown(label=\"🍽️ Select a Dish\", choices=df[\"Food Item\"].unique().tolist())\n",
        "            allergen_input = gr.Dropdown(label=\"⚠️ Select an Allergen\", choices=[\"Dairy\", \"Gluten\", \"Nuts\", \"Soy\", \"Eggs\", \"Seafood\", \"Peanuts\", \"Sesame\", \"Shellfish\"])\n",
        "            check_button = gr.Button(\"Check\", variant=\"primary\")\n",
        "\n",
        "        prediction_output = gr.Textbox(label=\"🔍 Prediction Result\", interactive=False)\n",
        "        ingredients_output = gr.Textbox(label=\"🥘 Ingredients of Dish\", interactive=False)\n",
        "        alternative_output = gr.Textbox(label=\"🌱 Suggested Alternatives\", interactive=False)\n",
        "        suggested_food_output = gr.Textbox(label=\"🍽️ Suggested Allergen-Free Dishes\", interactive=False)\n",
        "\n",
        "        check_button.click(\n",
        "            allergen_prediction,\n",
        "            inputs=[dish_input, allergen_input],\n",
        "            outputs=[prediction_output, ingredients_output, alternative_output, suggested_food_output]\n",
        "        )\n",
        "\n",
        "    # Tab 2: Calorie Management\n",
        "    with gr.Tab(\"🔥 Calorie Management\"):\n",
        "        gr.Markdown(\"### 🥗 Check if a Dish Fits Your Calorie Limit\")\n",
        "        with gr.Row():\n",
        "            calorie_input = gr.Number(label=\"🔢 Enter your Calorie Limit\", value=2000)\n",
        "            food_input = gr.Dropdown(label=\"🍲 Select a Food Item\", choices=df[\"Food Item\"].unique().tolist())\n",
        "            calorie_button = gr.Button(\"Check Calories\", variant=\"primary\")\n",
        "\n",
        "        calorie_result_output = gr.Textbox(label=\"⚖️ Can you eat this?\", interactive=False)\n",
        "        other_options_output = gr.Dataframe(label=\"✅ Other Food Items Within Calorie Limit\")\n",
        "\n",
        "        calorie_button.click(\n",
        "            check_calories,\n",
        "            inputs=[calorie_input, food_input],\n",
        "            outputs=[calorie_result_output, other_options_output]\n",
        "        )\n",
        "\n",
        "    # Tab 3: Doctor Recommendations\n",
        "    with gr.Tab(\"👨‍⚕️ Allergy Specialists\"):\n",
        "        gr.Markdown(\"### 🏥 Find an Allergy Specialist\")\n",
        "        doctor_output = gr.Textbox(label=\"📋 List of Allergy Specialists\", interactive=False)\n",
        "        doctor_button = gr.Button(\"Show Doctors\", variant=\"primary\")\n",
        "\n",
        "        doctor_button.click(\n",
        "            doctor_recommendations,\n",
        "            inputs=[],\n",
        "            outputs=[doctor_output]\n",
        "        )\n",
        "\n",
        "# ----------------- LAUNCH THE GRADIO APP -----------------\n",
        "app.launch()\n",
        "\n",
        "\n",
        "\n",
        "\n",
        "\n",
        "\n",
        "\n"
      ],
      "metadata": {
        "colab": {
          "base_uri": "https://localhost:8080/",
          "height": 732
        },
        "id": "e8LE3DDVOdz9",
        "outputId": "ca3c3972-e419-4c88-cb7d-039f164d9c1d"
      },
      "execution_count": 51,
      "outputs": [
        {
          "output_type": "stream",
          "name": "stderr",
          "text": [
            "/usr/local/lib/python3.11/dist-packages/xgboost/core.py:158: UserWarning: [10:29:55] WARNING: /workspace/src/learner.cc:740: \n",
            "Parameters: { \"use_label_encoder\" } are not used.\n",
            "\n",
            "  warnings.warn(smsg, UserWarning)\n"
          ]
        },
        {
          "output_type": "stream",
          "name": "stdout",
          "text": [
            "Model Accuracy: 98.80%\n",
            "Running Gradio in a Colab notebook requires sharing enabled. Automatically setting `share=True` (you can turn this off by setting `share=False` in `launch()` explicitly).\n",
            "\n",
            "Colab notebook detected. To show errors in colab notebook, set debug=True in launch()\n",
            "* Running on public URL: https://1bd8df9b2db39811fe.gradio.live\n",
            "\n",
            "This share link expires in 72 hours. For free permanent hosting and GPU upgrades, run `gradio deploy` from the terminal in the working directory to deploy to Hugging Face Spaces (https://huggingface.co/spaces)\n"
          ]
        },
        {
          "output_type": "display_data",
          "data": {
            "text/plain": [
              "<IPython.core.display.HTML object>"
            ],
            "text/html": [
              "<div><iframe src=\"https://1bd8df9b2db39811fe.gradio.live\" width=\"100%\" height=\"500\" allow=\"autoplay; camera; microphone; clipboard-read; clipboard-write;\" frameborder=\"0\" allowfullscreen></iframe></div>"
            ]
          },
          "metadata": {}
        },
        {
          "output_type": "execute_result",
          "data": {
            "text/plain": []
          },
          "metadata": {},
          "execution_count": 51
        }
      ]
    }
  ]
}